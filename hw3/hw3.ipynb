{
 "cells": [
  {
   "cell_type": "code",
   "execution_count": null,
   "outputs": [],
   "source": [
    "# train the model\n",
    "!python -u code/run_lm.py \\\n",
    "        --data_dir=./dataset/javaCorpus/line_completion \\\n",
    "        --lit_file=./dataset/javaCorpus/literals.json \\\n",
    "        --langs=java \\\n",
    "        --output_dir=./save/javaCorpus \\\n",
    "        --log_file=completion_javaCorpus_eval.log \\\n",
    "        --model_type=gpt2 \\\n",
    "        --block_size=1024 \\\n",
    "        --eval_line \\\n",
    "        --logging_steps=100 \\\n",
    "        --seed=42"
   ],
   "metadata": {
    "collapsed": false,
    "pycharm": {
     "name": "#%%\n"
    }
   }
  },
  {
   "cell_type": "code",
   "execution_count": 1,
   "metadata": {
    "collapsed": false,
    "pycharm": {
     "name": "#%%\n"
    },
    "vscode": {
     "languageId": "bat"
    }
   },
   "outputs": [
    {
     "name": "stderr",
     "output_type": "stream",
     "text": [
      "E:\\anaconda\\lib\\site-packages\\fuzzywuzzy\\fuzz.py:11: UserWarning: Using slow pure-python SequenceMatcher. Install python-Levenshtein to remove this warning\n",
      "  warnings.warn('Using slow pure-python SequenceMatcher. Install python-Levenshtein to remove this warning')\n",
      "INFO:__main__:Edit sim: 43.8, EM: 0.0\n"
     ]
    }
   ],
   "source": [
    "# evaluate the model\n",
    "!python evaluator/evaluator.py -a=evaluator/answers.json -p=evaluator/predictions.txt"
   ]
  }
 ],
 "metadata": {
  "kernelspec": {
   "display_name": "Python 3",
   "language": "python",
   "name": "python3"
  },
  "language_info": {
   "codemirror_mode": {
    "name": "ipython",
    "version": 3
   },
   "file_extension": ".py",
   "mimetype": "text/x-python",
   "name": "python",
   "nbconvert_exporter": "python",
   "pygments_lexer": "ipython3",
   "version": "3.9.7"
  }
 },
 "nbformat": 4,
 "nbformat_minor": 5
}
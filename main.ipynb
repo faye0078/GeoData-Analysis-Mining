{
 "cells": [
  {
   "cell_type": "code",
   "execution_count": 1,
   "id": "f9ae54f7-c4ab-4871-82d3-44f3f2ed9427",
   "metadata": {},
   "outputs": [],
   "source": [
    "import matplotlib.pylab as plt\n",
    "import numpy as np\n",
    "import pandas as pd\n",
    "from collections import OrderedDict\n",
    "from utils import read_data, normalize\n",
    "from model import get_KMeans\n",
    "# from model import PCA"
   ]
  },
  {
   "cell_type": "code",
   "execution_count": 2,
   "id": "52606d6a-37ad-48f8-b078-1e23c239fba2",
   "metadata": {},
   "outputs": [],
   "source": [
    "used_countries = ['USA', 'CHN', 'JPN', 'DEU', 'IND', \n",
    "                  'GBR', 'FIN', 'BRA', 'ITA', 'CAN', \n",
    "                  'RUS', 'ZAF', 'AUS', 'ESP', 'MEX',\n",
    "                  'IDN', 'TUR', 'NLD', 'SAU', 'CHE']\n",
    "country_covid_data = read_data('data.csv', used_countries)"
   ]
  },
  {
   "cell_type": "code",
   "execution_count": 3,
   "id": "ccc9c3ed-589b-4b68-9a59-c67c5a989da9",
   "metadata": {},
   "outputs": [],
   "source": [
    "normalized_data = OrderedDict()\n",
    "for country in used_countries:\n",
    "    tem_data = np.array(country_covid_data[country]['Cumulative_number_for_14_days_of_COVID-19_cases_per_100000'])\n",
    "    normalized_data[country] = normalize(tem_data)"
   ]
  },
  {
   "cell_type": "markdown",
   "id": "9539bdcf",
   "metadata": {},
   "source": []
  },
  {
   "cell_type": "code",
   "execution_count": 4,
   "id": "5cdbef1f",
   "metadata": {},
   "outputs": [],
   "source": [
    "from sklearn.cluster import KMeans\n",
    "km = get_KMeans('sklearn', 4)  #将数据集分为2类\n",
    "Y = np.array([normalized_data[idx] for idx in normalized_data])\n",
    "y_pre = km.fit_predict(Y)\n"
   ]
  },
  {
   "cell_type": "code",
   "execution_count": 11,
   "id": "32b61e88",
   "metadata": {},
   "outputs": [
    {
     "name": "stdout",
     "output_type": "stream",
     "text": [
      "USA\n",
      "\n",
      "\n",
      "CHN\n",
      "\n",
      "\n",
      "JPN\n",
      "\n",
      "\n",
      "DEU\n",
      "\n",
      "\n"
     ]
    }
   ],
   "source": [
    "y_pre\n",
    "for i in range(4):\n",
    "   for j in range(len(used_countries)):\n",
    "      if j == i:\n",
    "         print(used_countries[j])\n",
    "   print('\\n')"
   ]
  }
 ],
 "metadata": {
  "kernelspec": {
   "display_name": "Python 3",
   "language": "python",
   "name": "python3"
  },
  "language_info": {
   "codemirror_mode": {
    "name": "ipython",
    "version": 3
   },
   "file_extension": ".py",
   "mimetype": "text/x-python",
   "name": "python",
   "nbconvert_exporter": "python",
   "pygments_lexer": "ipython3",
   "version": "3.8.8"
  }
 },
 "nbformat": 4,
 "nbformat_minor": 5
}

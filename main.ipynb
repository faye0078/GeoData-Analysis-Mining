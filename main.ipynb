{
 "cells": [
  {
   "cell_type": "code",
   "execution_count": 29,
   "id": "f9ae54f7-c4ab-4871-82d3-44f3f2ed9427",
   "metadata": {},
   "outputs": [],
   "source": [
    "from utils import read_data\n",
    "import matplotlib.pylab as plt\n",
    "import numpy as np\n",
    "import pandas as pd\n",
    "from collections import OrderedDict\n",
    "# from model import PCA"
   ]
  },
  {
   "cell_type": "code",
   "execution_count": 30,
   "id": "52606d6a-37ad-48f8-b078-1e23c239fba2",
   "metadata": {},
   "outputs": [],
   "source": [
    "used_countries = ['USA', 'CHN', 'JPN', 'DEU', 'IND', 'GBR', 'FIN', 'BRA', 'ITA', 'CAN']\n",
    "country_covid_data = read_data('data.csv', used_countries)"
   ]
  },
  {
   "cell_type": "code",
   "execution_count": 26,
   "id": "ccc9c3ed-589b-4b68-9a59-c67c5a989da9",
   "metadata": {},
   "outputs": [
    {
     "name": "stdout",
     "output_type": "stream",
     "text": [
      "350\n",
      "350\n",
      "350\n",
      "350\n",
      "349\n",
      "350\n",
      "346\n",
      "350\n",
      "350\n",
      "350\n"
     ]
    }
   ],
   "source": [
    "two_mouth_data = OrderedDict()\n",
    "for country in used_countries:\n",
    "    tem_data = np.array(country_covid_data[country]['Cumulative_number_for_14_days_of_COVID-19_cases_per_100000'])\n",
    "    "
   ]
  },
  {
   "cell_type": "markdown",
   "id": "9539bdcf",
   "metadata": {},
   "source": []
  },
  {
   "cell_type": "code",
   "execution_count": 42,
   "id": "5dfdf949",
   "metadata": {},
   "outputs": [
    {
     "ename": "IndexError",
     "evalue": "only integers, slices (`:`), ellipsis (`...`), numpy.newaxis (`None`) and integer or boolean arrays are valid indices",
     "output_type": "error",
     "traceback": [
      "\u001b[1;31m---------------------------------------------------------------------------\u001b[0m",
      "\u001b[1;31mIndexError\u001b[0m                                Traceback (most recent call last)",
      "\u001b[1;32m<ipython-input-42-bb3ad42aedf8>\u001b[0m in \u001b[0;36m<module>\u001b[1;34m\u001b[0m\n\u001b[0;32m      1\u001b[0m \u001b[0mcountry_data\u001b[0m \u001b[1;33m=\u001b[0m \u001b[0mnp\u001b[0m\u001b[1;33m.\u001b[0m\u001b[0marray\u001b[0m\u001b[1;33m(\u001b[0m\u001b[0mcountry_covid_data\u001b[0m\u001b[1;33m[\u001b[0m\u001b[1;34m'CHN'\u001b[0m\u001b[1;33m]\u001b[0m\u001b[1;33m[\u001b[0m\u001b[1;34m'Cumulative_number_for_14_days_of_COVID-19_cases_per_100000'\u001b[0m\u001b[1;33m]\u001b[0m\u001b[1;33m)\u001b[0m\u001b[1;33m\u001b[0m\u001b[1;33m\u001b[0m\u001b[0m\n\u001b[1;32m----> 2\u001b[1;33m \u001b[0mcountry_data\u001b[0m\u001b[1;33m[\u001b[0m\u001b[0mcountry_data\u001b[0m\u001b[1;33m.\u001b[0m\u001b[0margmax\u001b[0m\u001b[1;33m]\u001b[0m\u001b[1;33m\u001b[0m\u001b[1;33m\u001b[0m\u001b[0m\n\u001b[0m",
      "\u001b[1;31mIndexError\u001b[0m: only integers, slices (`:`), ellipsis (`...`), numpy.newaxis (`None`) and integer or boolean arrays are valid indices"
     ]
    }
   ],
   "source": [
    "\n",
    "country_data = np.array(country_covid_data['CHN']['Cumulative_number_for_14_days_of_COVID-19_cases_per_100000'])\n",
    "country_data[country_data.argmax]"
   ]
  }
 ],
 "metadata": {
  "kernelspec": {
   "display_name": "Python 3",
   "language": "python",
   "name": "python3"
  },
  "language_info": {
   "codemirror_mode": {
    "name": "ipython",
    "version": 3
   },
   "file_extension": ".py",
   "mimetype": "text/x-python",
   "name": "python",
   "nbconvert_exporter": "python",
   "pygments_lexer": "ipython3",
   "version": "3.8.8"
  }
 },
 "nbformat": 4,
 "nbformat_minor": 5
}
